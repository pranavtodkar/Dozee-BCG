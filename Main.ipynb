{
 "cells": [
  {
   "cell_type": "code",
   "execution_count": null,
   "metadata": {},
   "outputs": [],
   "source": [
    "import pandas as pd\n",
    "df = pd.read_csv(\"ground_truth_subjects.csv\")\n",
    "\n",
    "\n",
    "# Read CSV for training dataset\n",
    "# Array file names\n",
    "(df.head(1))\n",
    "\n",
    "\n",
    "# ground_truth -> file_name -> peizo signals\n",
    "\n",
    "# ground_truth -> file_name -> breathrate\n",
    "\n",
    "# ground_truth -> file_name -> heartrate\n",
    "\n",
    "# ground_truth -> file_name -> jpeaks\n",
    "\n",
    "# ground_truth -> file_name -> movementvalue\n",
    "\n",
    "\n",
    "\n",
    "\n",
    "# Visualize (Plot graph) data\n",
    "\n",
    "# Pattern / Algo\n",
    "# Linear regression to get breathrate and heartrate and jpeaks (continuous)\n",
    "####\n",
    "\n",
    "\n",
    "\n",
    "# Classfier movementvalues\n",
    "####"
   ]
  }
 ],
 "metadata": {
  "language_info": {
   "name": "python"
  }
 },
 "nbformat": 4,
 "nbformat_minor": 5
}
